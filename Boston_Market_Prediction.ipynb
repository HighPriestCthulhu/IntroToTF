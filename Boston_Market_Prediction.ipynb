{
  "nbformat": 4,
  "nbformat_minor": 0,
  "metadata": {
    "colab": {
      "name": "Boston_Market_Prediction",
      "version": "0.3.2",
      "provenance": [],
      "collapsed_sections": [],
      "include_colab_link": true
    },
    "kernelspec": {
      "name": "python3",
      "display_name": "Python 3"
    }
  },
  "cells": [
    {
      "cell_type": "markdown",
      "metadata": {
        "id": "view-in-github",
        "colab_type": "text"
      },
      "source": [
        "<a href=\"https://colab.research.google.com/github/HighPriestCthulhu/IntroToTF/blob/master/Boston_Market_Prediction.ipynb\" target=\"_parent\"><img src=\"https://colab.research.google.com/assets/colab-badge.svg\" alt=\"Open In Colab\"/></a>"
      ]
    },
    {
      "cell_type": "code",
      "metadata": {
        "id": "N-cd3zUUWjRz",
        "colab_type": "code",
        "outputId": "ba892241-d9bd-4f9e-a074-ad2033939447",
        "colab": {
          "base_uri": "https://localhost:8080/",
          "height": 67
        }
      },
      "source": [
        "from keras.datasets import boston_housing\n",
        "\n",
        "(train_data, train_targets), (test_data, test_targets) = boston_housing.load_data()"
      ],
      "execution_count": 2,
      "outputs": [
        {
          "output_type": "stream",
          "text": [
            "Using TensorFlow backend.\n"
          ],
          "name": "stderr"
        },
        {
          "output_type": "stream",
          "text": [
            "Downloading data from https://s3.amazonaws.com/keras-datasets/boston_housing.npz\n",
            "57344/57026 [==============================] - 0s 0us/step\n"
          ],
          "name": "stdout"
        }
      ]
    },
    {
      "cell_type": "code",
      "metadata": {
        "id": "i-itpMwObTDR",
        "colab_type": "code",
        "outputId": "b4a6f49b-dc30-42d4-e58f-7be56410d104",
        "colab": {
          "base_uri": "https://localhost:8080/",
          "height": 34
        }
      },
      "source": [
        "test_data.shape"
      ],
      "execution_count": 3,
      "outputs": [
        {
          "output_type": "execute_result",
          "data": {
            "text/plain": [
              "(102, 13)"
            ]
          },
          "metadata": {
            "tags": []
          },
          "execution_count": 3
        }
      ]
    },
    {
      "cell_type": "code",
      "metadata": {
        "id": "GIvFC1nMcE7J",
        "colab_type": "code",
        "colab": {}
      },
      "source": [
        "#Find Z scores for all values in list to normalise data using feature-wise normalisation\n",
        "mean = train_data.mean(axis=0)\n",
        "train_data -=mean\n",
        "std=train_data.std(axis=0)\n",
        "train_data /= std\n",
        "test_data -=mean\n",
        "test_data /=std"
      ],
      "execution_count": 0,
      "outputs": []
    },
    {
      "cell_type": "code",
      "metadata": {
        "id": "G8d9MJXrcukR",
        "colab_type": "code",
        "colab": {}
      },
      "source": [
        "from keras import models, layers\n",
        "\n",
        "def build_model():\n",
        "  model = models.Sequential()\n",
        "  model.add(layers.Dense(units=64,\n",
        "                         activation='relu',\n",
        "                         input_shape=(train_data.shape[1],)))\n",
        "  model.add(layers.Dense(units=64,\n",
        "                         activation='relu')) #non-linear relu function delinearises the data and makes it possible to find complex patterns\n",
        "  model.add(layers.Dense(units=1)) #defaults to purely linear function\n",
        "  model.compile(optimizer='rmsprop',\n",
        "               loss='mse',\n",
        "               metrics=['mae'])\n",
        "  return model \n",
        "\n",
        "  "
      ],
      "execution_count": 0,
      "outputs": []
    },
    {
      "cell_type": "code",
      "metadata": {
        "id": "YhDR3yIzkxLF",
        "colab_type": "code",
        "colab": {
          "base_uri": "https://localhost:8080/",
          "height": 67
        },
        "outputId": "551d69c9-b832-4fda-935d-a568be9f7f6f"
      },
      "source": [
        "import numpy as np\n",
        "\n",
        "k = 4\n",
        "num_val_samples = len(train_data)//k\n",
        "num_epochs = 500\n",
        "all_scores = []\n",
        "\n",
        "for i in range(k):\n",
        "  print('processing fold #', i)\n",
        "  val_data = train_data[i* num_val_samples:(i+1)*num_val_samples]\n",
        "  val_targets = train_targets[i* num_val_samples:(i+1)*num_val_samples]\n",
        "  \n",
        "  partial_train_data = np.concatenate(\n",
        "    [train_data[:i* num_val_samples],\n",
        "     train_data[(i+1)* num_val_samples:]],\n",
        "    axis=0)\n",
        "  partial_train_targets = np.concatenate(\n",
        "    [train_targets[:i* num_val_samples],\n",
        "     train_targets[(i+1)* num_val_samples:]],\n",
        "    axis=0)\n",
        "  \n",
        "  \n",
        "  model = build_model()\n",
        "  model.fit(partial_train_data, partial_train_targets, \n",
        "            epochs=num_epochs, batch_size=1, verbose=0)\n",
        "  val_mse, val_mae = model.evaluate(val_data, val_targets, verbose=0)\n",
        "  all_scores.append(val_mae)\n",
        "  \n",
        "print(all_scores)"
      ],
      "execution_count": 13,
      "outputs": [
        {
          "output_type": "stream",
          "text": [
            "processing fold # 2\n",
            "processing fold # 3\n",
            "[2.30608329914584, 2.8143377115230748, 2.8703539985241275, 2.403667432246822]\n"
          ],
          "name": "stdout"
        }
      ]
    }
  ]
}